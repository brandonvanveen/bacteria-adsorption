{
 "cells": [
  {
   "cell_type": "code",
   "execution_count": 2,
   "metadata": {},
   "outputs": [],
   "source": [
    "from file_reader import *\n",
    "from collections import defaultdict\n",
    "import matplotlib.pyplot as plt, numpy\n",
    "mass_1025 = 0.002796"
   ]
  },
  {
   "cell_type": "code",
   "execution_count": 4,
   "metadata": {},
   "outputs": [
    {
     "data": {
      "image/png": "[encoded data removed]",
      "text/plain": [
       "<Figure size 432x288 with 1 Axes>"
      ]
     },
     "metadata": {
      "needs_background": "light"
     },
     "output_type": "display_data"
    }
   ],
   "source": [
    "fig=plt.figure()\n",
    "\n",
    "data_list = [TitrationData('input_data/1025/PC_LIMS_Report-20201026-135736.txt', '200uL_0ppm', 0.10051, 0, mass_1025, -0.1),\n",
    "             TitrationData('input_data/1026/PC_LIMS_Report-20201027-150256.txt', '200uL_80ppm', 0.10051, 0, mass_1025, -0.1),\n",
    "             TitrationData('input_data/1026/PC_LIMS_Report-20201027-151935.txt', '200uL_500ppm', 0.100438, 0, mass_1025, -0.1)]\n",
    "\n",
    "data_name = ['0ppm', '80ppm', '500ppm']\n",
    "labels = ['0 mg/L Pb$^{2+}$', '80 mg/L Pb$^{2+}$', '500 mg/L Pb$^{2+}$']\n",
    "\n",
    "data_dict = defaultdict(dict) \n",
    "\n",
    "for i in range(len(data_name)):\n",
    "    data_dict[data_name[i]]['d'] = data_list[i]\n",
    "    data_dict[data_name[i]]['l'] = labels[i]\n",
    "\n",
    "for data in data_name:\n",
    "    df = data_dict[data]['d'].df\n",
    "    plt.plot(df.pH, df.vol, label=data_dict[data]['l'], marker ='+', linewidth=0)\n",
    "\n",
    "plt.xlabel('pH')\n",
    "plt.ylabel('NaOH (mL)')\n",
    "plt.ylim(0,1.2)\n",
    "plt.legend()\n",
    "plt.show()\n",
    "fig.savefig('pb-fx.png', dpi=300)"
   ]
  },
  {
   "cell_type": "code",
   "execution_count": null,
   "metadata": {},
   "outputs": [],
   "source": []
  }
 ],
 "metadata": {
  "kernelspec": {
   "display_name": "Python 3",
   "language": "python",
   "name": "python3"
  },
  "language_info": {
   "codemirror_mode": {
    "name": "ipython",
    "version": 3
   },
   "file_extension": ".py",
   "mimetype": "text/x-python",
   "name": "python",
   "nbconvert_exporter": "python",
   "pygments_lexer": "ipython3",
   "version": "3.8.3"
  }
 },
 "nbformat": 4,
 "nbformat_minor": 4
}
