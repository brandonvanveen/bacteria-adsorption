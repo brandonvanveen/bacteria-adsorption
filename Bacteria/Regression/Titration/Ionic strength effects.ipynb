{
 "cells": [
  {
   "cell_type": "code",
   "execution_count": 1,
   "metadata": {},
   "outputs": [],
   "source": [
    "from file_reader import *\n",
    "from collections import defaultdict\n",
    "import matplotlib.pyplot as plt, numpy\n",
    "\n",
    "mass_1025 = 0.002796\n",
    "Cs_1gpL = 1/58.43\n",
    "Cs_10gpL = Cs_1gpL*10"
   ]
  },
  {
   "cell_type": "code",
   "execution_count": 4,
   "metadata": {},
   "outputs": [
    {
     "data": {
      "image/png": "[encoded data removed]",
      "text/plain": [
       "<Figure size 432x288 with 1 Axes>"
      ]
     },
     "metadata": {
      "needs_background": "light"
     },
     "output_type": "display_data"
    }
   ],
   "source": [
    "fig = plt.figure()\n",
    "\n",
    "zeros = [TitrationData('input_data/1025/PC_LIMS_Report-20201026-135736.txt', '200uL_0gpL_1', 0.10051, 0, mass_1025, -0.1),\n",
    "         TitrationData('input_data/1025/PC_LIMS_Report-20201026-150929.txt', '200uL_0gpL_2', 0.10051, 0, mass_1025, -0.1),\n",
    "         TitrationData('input_data/1025/PC_LIMS_Report-20201026-161307.txt', '200uL_0gpL_3', 0.100484, 0, mass_1025, -0.1)]\n",
    "\n",
    "ones = [TitrationData('input_data/1025/PC_LIMS_Report-20201026-142327.txt', '200uL_1gpL_1', 0.100448, Cs_1gpL, mass_1025, -0.1),\n",
    "        TitrationData('input_data/1025/PC_LIMS_Report-20201026-153131.txt', '200uL_1gpL_2', 0.100434, Cs_1gpL, mass_1025, -0.1),\n",
    "        TitrationData('input_data/1025/PC_LIMS_Report-20201026-163102.txt', '200uL_1gpL_3', 0.100532, Cs_1gpL, mass_1025, -0.1)]\n",
    "\n",
    "tens = [TitrationData('input_data/1025/PC_LIMS_Report-20201026-144820.txt', '200uL_10gpL_1', 0.10059, Cs_10gpL, mass_1025, -0.1),\n",
    "        TitrationData('input_data/1025/PC_LIMS_Report-20201026-154919.txt', '200uL_10gpL_2', 0.10067, Cs_10gpL, mass_1025, -0.1),\n",
    "        TitrationData('input_data/1025/PC_LIMS_Report-20201026-165047.txt', '200uL_10gpL_3', 0.100588, Cs_10gpL, mass_1025, -0.1)]\n",
    "\n",
    "concs = [zeros, ones, tens]\n",
    "concs_names = ['zeros', 'ones', 'tens']\n",
    "colours = ['tab:blue', 'tab:orange', 'tab:green']\n",
    "label_list = ['0 g/L NaNO$_3$', '1 g/L NaNO$_3$', '10 g/L NaNO$_3$']\n",
    "salts = defaultdict(dict) \n",
    "\n",
    "for i in range(len(concs)):\n",
    "    source = salts[concs_names[i]]\n",
    "    source['d'] = concs[i] # 'd' is for data list defined above \n",
    "    source['c'] = colours[i] # 'c' is the colour specified\n",
    "    source['l'] = label_list[i] # 'l' is for label\n",
    "    \n",
    "for salt in salts:\n",
    "    conc = salts[salt]\n",
    "    for run in range(len(conc['d'])):\n",
    "        data = conc['d'][run].df\n",
    "        plt.plot(data.pH, data.vol, color=conc['c'], marker='+', linewidth=0, label=conc['l'] if run == 0 else \"\")\n",
    "\n",
    "plt.legend()\n",
    "plt.xlabel('pH')\n",
    "plt.ylabel('NaOH (mL)')\n",
    "plt.show()\n",
    "fig.savefig('ionic_fx.png', dpi=600)"
   ]
  },
  {
   "cell_type": "code",
   "execution_count": null,
   "metadata": {},
   "outputs": [],
   "source": []
  }
 ],
 "metadata": {
  "kernelspec": {
   "display_name": "Python 3",
   "language": "python",
   "name": "python3"
  },
  "language_info": {
   "codemirror_mode": {
    "name": "ipython",
    "version": 3
   },
   "file_extension": ".py",
   "mimetype": "text/x-python",
   "name": "python",
   "nbconvert_exporter": "python",
   "pygments_lexer": "ipython3",
   "version": "3.9.5"
  }
 },
 "nbformat": 4,
 "nbformat_minor": 4
}
