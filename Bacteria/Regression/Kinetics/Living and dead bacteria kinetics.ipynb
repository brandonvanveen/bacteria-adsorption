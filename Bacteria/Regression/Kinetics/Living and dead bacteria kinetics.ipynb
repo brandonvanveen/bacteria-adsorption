{
 "cells": [
  {
   "cell_type": "code",
   "execution_count": 1,
   "metadata": {},
   "outputs": [],
   "source": [
    "import matplotlib.pyplot as plt, numpy, pandas"
   ]
  },
  {
   "cell_type": "code",
   "execution_count": 2,
   "metadata": {},
   "outputs": [
    {
     "data": {
      "image/png": "[encoded data removed]",
      "text/plain": [
       "<Figure size 432x288 with 1 Axes>"
      ]
     },
     "metadata": {
      "needs_background": "light"
     },
     "output_type": "display_data"
    }
   ],
   "source": [
    "alive = ['N', 'Y']\n",
    "colours = {'N':'black', 'Y':'blue'}\n",
    "labels = {'N':'NaN$_3$ sterilised bacteria', 'Y':'living bacteria'}\n",
    "\n",
    "for life in alive:\n",
    "    df = pandas.read_excel('data/living_v_dead.xlsx')    \n",
    "    df = df[df.alive==life]\n",
    "    df = df.groupby('t')\n",
    "    ts = list(df.groups.keys())\n",
    "    ts.remove(5)\n",
    "\n",
    "    fig = plt.figure(1)\n",
    "\n",
    "#     plt.errorbar(180, 50, yerr=7.143,fmt='o', capsize=2.5,color='red',linewidth=0.7, label='Carla\\'s Masters results')\n",
    "    plt.plot(0,100,'ro')\n",
    "\n",
    "    for t in ts:\n",
    "        y = df.get_group(t).pc.mean()\n",
    "        x = df.get_group(t).del_t.mean()\n",
    "        error = df.get_group(t).pc.std()\n",
    "        plt.errorbar(x,y,yerr=error,fmt='o',capsize=2.5,color=colours[life],\n",
    "                     linewidth=0.7, label=labels[life])\n",
    "\n",
    "    plt.xlabel('time, min')\n",
    "    plt.ylabel('percent original Pb(II) concentration')\n",
    "    plt.ylim(0,105)\n",
    "    plt.xlim(-5,190)\n",
    "\n",
    "handles, labels = plt.gca().get_legend_handles_labels()\n",
    "by_label = dict(zip(labels, handles))\n",
    "# plt.legend(by_label.values(), by_label.keys())\n",
    "\n",
    "plt.draw()\n",
    "plt.show()\n",
    "fig.savefig('dead-pb-removal.png',dpi=600,bbox_inches='tight')"
   ]
  },
  {
   "cell_type": "code",
   "execution_count": 3,
   "metadata": {},
   "outputs": [
    {
     "data": {
      "text/plain": [
       "<pandas.core.groupby.generic.DataFrameGroupBy object at 0x7f64f452efd0>"
      ]
     },
     "execution_count": 3,
     "metadata": {},
     "output_type": "execute_result"
    }
   ],
   "source": [
    "df"
   ]
  },
  {
   "cell_type": "code",
   "execution_count": 7,
   "metadata": {},
   "outputs": [
    {
     "data": {
      "image/png": "[encoded data removed]",
      "text/plain": [
       "<Figure size 432x288 with 1 Axes>"
      ]
     },
     "metadata": {
      "needs_background": "light"
     },
     "output_type": "display_data"
    }
   ],
   "source": [
    "alive = ['N', 'Y']\n",
    "colours = {'N':'black', 'Y':'blue'}\n",
    "labels = {'N':'NaN$_3$ sterilised bacteria', 'Y':'living bacteria'}\n",
    "\n",
    "for life in alive:\n",
    "    df = pandas.read_excel('data/living_v_dead_redo.xlsx')    \n",
    "    df = df[df.alive==life]\n",
    "    df = df.groupby('t')\n",
    "    ts = list(df.groups.keys())\n",
    "    ts.remove(5)\n",
    "\n",
    "    fig = plt.figure(1)\n",
    "\n",
    "    plt.errorbar(180, 50, yerr=7.143,fmt='o', capsize=2.5,color='red',linewidth=0.7, label='Carla\\'s Masters results')\n",
    "    plt.plot(0,100,'ro')\n",
    "\n",
    "    for t in ts:\n",
    "        y = df.get_group(t).pc.mean()\n",
    "        x = df.get_group(t).del_t.mean()\n",
    "        error = df.get_group(t).pc.std()/numpy.sqrt(3)\n",
    "        plt.errorbar(x,y,yerr=error,fmt='o',capsize=2.5,color=colours[life],\n",
    "                     linewidth=0.7, label=labels[life])\n",
    "\n",
    "    plt.xlabel('time, min')\n",
    "    plt.ylabel('percent original Pb(II) concentration')\n",
    "    plt.ylim(0,120)\n",
    "    plt.xlim(-5,190)\n",
    "\n",
    "handles, labels = plt.gca().get_legend_handles_labels()\n",
    "by_label = dict(zip(labels, handles))\n",
    "plt.legend(by_label.values(), by_label.keys())\n",
    "\n",
    "plt.draw()\n",
    "plt.show()\n",
    "fig.savefig('dead-pb-removal-ii.png',dpi=600,bbox_inches='tight')"
   ]
  },
  {
   "cell_type": "code",
   "execution_count": 19,
   "metadata": {},
   "outputs": [
    {
     "data": {
      "text/plain": [
       "41.08761329305136"
      ]
     },
     "execution_count": 19,
     "metadata": {},
     "output_type": "execute_result"
    }
   ],
   "source": [
    "80/331*2*85"
   ]
  },
  {
   "cell_type": "code",
   "execution_count": 9,
   "metadata": {},
   "outputs": [
    {
     "data": {
      "text/plain": [
       "0.529375"
      ]
     },
     "execution_count": 9,
     "metadata": {},
     "output_type": "execute_result"
    }
   ],
   "source": [
    "(200-(125.5*0.75))/200\n",
    "\n"
   ]
  },
  {
   "cell_type": "code",
   "execution_count": null,
   "metadata": {},
   "outputs": [],
   "source": []
  }
 ],
 "metadata": {
  "kernelspec": {
   "display_name": "Python 3",
   "language": "python",
   "name": "python3"
  },
  "language_info": {
   "codemirror_mode": {
    "name": "ipython",
    "version": 3
   },
   "file_extension": ".py",
   "mimetype": "text/x-python",
   "name": "python",
   "nbconvert_exporter": "python",
   "pygments_lexer": "ipython3",
   "version": "3.8.5"
  }
 },
 "nbformat": 4,
 "nbformat_minor": 4
}
