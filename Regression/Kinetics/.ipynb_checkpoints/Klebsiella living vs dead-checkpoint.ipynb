{
 "cells": [
  {
   "cell_type": "code",
   "execution_count": 183,
   "metadata": {},
   "outputs": [],
   "source": [
    "import pandas, matplotlib.pyplot as plt, numpy"
   ]
  },
  {
   "cell_type": "code",
   "execution_count": 186,
   "metadata": {},
   "outputs": [
    {
     "data": {
      "image/png": "[encoded data removed]",
      "text/plain": [
       "<Figure size 432x288 with 1 Axes>"
      ]
     },
     "metadata": {
      "needs_background": "light"
     },
     "output_type": "display_data"
    },
    {
     "data": {
      "text/plain": [
       "<Figure size 432x288 with 0 Axes>"
      ]
     },
     "metadata": {},
     "output_type": "display_data"
    }
   ],
   "source": [
    "df = pandas.read_excel('data/klebsiella_living_v_dead.xlsx')\n",
    "df['t_min'] = \"\"\n",
    "df['C'] = df['C_AA']*df['C_f']\n",
    "df['Ct/C0'] = \"\"\n",
    "\n",
    "bottles = range(1,10,1)\n",
    "ts = range(0,6,1)\n",
    "t_mins = {0:0,\n",
    "          1:15,\n",
    "          2:30,\n",
    "          3:60,\n",
    "          4:120,\n",
    "          5:180}\n",
    "\n",
    "for bottle in bottles:\n",
    "    df_bottles = df.loc[df['Bottle number'] == bottle]\n",
    "    for t in ts:\n",
    "        df_t0 = df_bottles.loc[df['t'] ==  0]\n",
    "        df_t = df_bottles.loc[df['t'] ==  t]\n",
    "        index = int(df_t.index.values)\n",
    "        df.at[index, 't_min'] = t_mins[t]\n",
    "        df.at[index, 'Ct/C0'] =  float(df_t['C'])/float(df_t0['C'])\n",
    "\n",
    "df['Ct/C0'] = pandas.to_numeric(df['Ct/C0'])\n",
    "        \n",
    "mortalities = ['a', 'd', 'c']\n",
    "mort_label_list = ['uninhibited', 'inhibited', 'control']\n",
    "mort_labels = dict(zip(mortalities,\n",
    "                       mort_label_list))\n",
    "\n",
    "\n",
    "fig = plt.figure()\n",
    "\n",
    "for m in mortalities:\n",
    "    df_m = df.loc[df['mortality'] == m]\n",
    "    df_m_grp = df_m.groupby('t_min')[['Ct/C0']]\n",
    "    df_m_mean = df_m_grp.mean()\n",
    "    df_m_std = df_m_grp.std()\n",
    "    x = df_m_mean.index\n",
    "    y = df_m_mean['Ct/C0']\n",
    "    yerr = df_m_std['Ct/C0']/numpy.sqrt(3)\n",
    "    plt.errorbar(x=x, \n",
    "                 y=y,\n",
    "                 yerr=yerr,\n",
    "                 fmt='o',\n",
    "                 capsize=2.5,  \n",
    "                 elinewidth=0.7, \n",
    "                 markersize=7, \n",
    "                 linewidth=4,\n",
    "                 label=mort_labels[m])\n",
    "    \n",
    "plt.legend()    \n",
    "plt.ylim(0,1.2)\n",
    "plt.ylabel('fraction of initial Pb(II) concentration')\n",
    "plt.xlabel('time (min)')\n",
    "plt.show()\n",
    "plt.draw()\n",
    "fig.savefig('klebs_living_vs_dead.pdf')"
   ]
  },
  {
   "cell_type": "code",
   "execution_count": null,
   "metadata": {},
   "outputs": [],
   "source": []
  }
 ],
 "metadata": {
  "kernelspec": {
   "display_name": "Python 3",
   "language": "python",
   "name": "python3"
  },
  "language_info": {
   "codemirror_mode": {
    "name": "ipython",
    "version": 3
   },
   "file_extension": ".py",
   "mimetype": "text/x-python",
   "name": "python",
   "nbconvert_exporter": "python",
   "pygments_lexer": "ipython3",
   "version": "3.8.5"
  }
 },
 "nbformat": 4,
 "nbformat_minor": 4
}
