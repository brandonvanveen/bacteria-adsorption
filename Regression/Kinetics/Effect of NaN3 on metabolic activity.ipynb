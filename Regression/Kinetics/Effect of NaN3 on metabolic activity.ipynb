{
 "cells": [
  {
   "cell_type": "code",
   "execution_count": 1,
   "metadata": {},
   "outputs": [],
   "source": [
    "import matplotlib.pyplot as plt, numpy, pandas"
   ]
  },
  {
   "cell_type": "markdown",
   "metadata": {},
   "source": [
    "# First experiment"
   ]
  },
  {
   "cell_type": "code",
   "execution_count": 3,
   "metadata": {},
   "outputs": [
    {
     "data": {
      "text/html": [
       "<div>\n",
       "<style scoped>\n",
       "    .dataframe tbody tr th:only-of-type {\n",
       "        vertical-align: middle;\n",
       "    }\n",
       "\n",
       "    .dataframe tbody tr th {\n",
       "        vertical-align: top;\n",
       "    }\n",
       "\n",
       "    .dataframe thead th {\n",
       "        text-align: right;\n",
       "    }\n",
       "</style>\n",
       "<table border=\"1\" class=\"dataframe\">\n",
       "  <thead>\n",
       "    <tr style=\"text-align: right;\">\n",
       "      <th></th>\n",
       "      <th>Bottle</th>\n",
       "      <th>Time_h</th>\n",
       "      <th>NaN3_mM</th>\n",
       "      <th>OD600_dilute</th>\n",
       "      <th>OD600</th>\n",
       "      <th>MTT_dilute</th>\n",
       "      <th>MTT</th>\n",
       "      <th>A_O</th>\n",
       "    </tr>\n",
       "  </thead>\n",
       "  <tbody>\n",
       "    <tr>\n",
       "      <th>0</th>\n",
       "      <td>1</td>\n",
       "      <td>0</td>\n",
       "      <td>0</td>\n",
       "      <td>1.299</td>\n",
       "      <td>5.196</td>\n",
       "      <td>0.674</td>\n",
       "      <td>2.696</td>\n",
       "      <td>0.518861</td>\n",
       "    </tr>\n",
       "    <tr>\n",
       "      <th>1</th>\n",
       "      <td>2</td>\n",
       "      <td>0</td>\n",
       "      <td>5</td>\n",
       "      <td>1.291</td>\n",
       "      <td>5.164</td>\n",
       "      <td>0.879</td>\n",
       "      <td>3.516</td>\n",
       "      <td>0.680868</td>\n",
       "    </tr>\n",
       "    <tr>\n",
       "      <th>2</th>\n",
       "      <td>3</td>\n",
       "      <td>0</td>\n",
       "      <td>25</td>\n",
       "      <td>1.238</td>\n",
       "      <td>4.952</td>\n",
       "      <td>0.600</td>\n",
       "      <td>2.400</td>\n",
       "      <td>0.484653</td>\n",
       "    </tr>\n",
       "    <tr>\n",
       "      <th>3</th>\n",
       "      <td>4</td>\n",
       "      <td>0</td>\n",
       "      <td>50</td>\n",
       "      <td>1.250</td>\n",
       "      <td>5.000</td>\n",
       "      <td>1.060</td>\n",
       "      <td>4.240</td>\n",
       "      <td>0.848000</td>\n",
       "    </tr>\n",
       "    <tr>\n",
       "      <th>4</th>\n",
       "      <td>1</td>\n",
       "      <td>4</td>\n",
       "      <td>0</td>\n",
       "      <td>1.279</td>\n",
       "      <td>5.116</td>\n",
       "      <td>1.369</td>\n",
       "      <td>5.476</td>\n",
       "      <td>1.070367</td>\n",
       "    </tr>\n",
       "    <tr>\n",
       "      <th>5</th>\n",
       "      <td>2</td>\n",
       "      <td>4</td>\n",
       "      <td>5</td>\n",
       "      <td>1.265</td>\n",
       "      <td>5.060</td>\n",
       "      <td>0.687</td>\n",
       "      <td>2.748</td>\n",
       "      <td>0.543083</td>\n",
       "    </tr>\n",
       "    <tr>\n",
       "      <th>6</th>\n",
       "      <td>3</td>\n",
       "      <td>4</td>\n",
       "      <td>25</td>\n",
       "      <td>1.220</td>\n",
       "      <td>4.880</td>\n",
       "      <td>0.103</td>\n",
       "      <td>0.412</td>\n",
       "      <td>0.084426</td>\n",
       "    </tr>\n",
       "    <tr>\n",
       "      <th>7</th>\n",
       "      <td>4</td>\n",
       "      <td>4</td>\n",
       "      <td>50</td>\n",
       "      <td>1.260</td>\n",
       "      <td>5.040</td>\n",
       "      <td>0.558</td>\n",
       "      <td>2.232</td>\n",
       "      <td>0.442857</td>\n",
       "    </tr>\n",
       "    <tr>\n",
       "      <th>8</th>\n",
       "      <td>1</td>\n",
       "      <td>24</td>\n",
       "      <td>0</td>\n",
       "      <td>2.500</td>\n",
       "      <td>10.000</td>\n",
       "      <td>1.652</td>\n",
       "      <td>6.608</td>\n",
       "      <td>0.660800</td>\n",
       "    </tr>\n",
       "    <tr>\n",
       "      <th>9</th>\n",
       "      <td>2</td>\n",
       "      <td>24</td>\n",
       "      <td>5</td>\n",
       "      <td>2.316</td>\n",
       "      <td>9.264</td>\n",
       "      <td>0.458</td>\n",
       "      <td>1.832</td>\n",
       "      <td>0.197755</td>\n",
       "    </tr>\n",
       "    <tr>\n",
       "      <th>10</th>\n",
       "      <td>3</td>\n",
       "      <td>24</td>\n",
       "      <td>25</td>\n",
       "      <td>2.318</td>\n",
       "      <td>9.272</td>\n",
       "      <td>0.467</td>\n",
       "      <td>1.868</td>\n",
       "      <td>0.201467</td>\n",
       "    </tr>\n",
       "    <tr>\n",
       "      <th>11</th>\n",
       "      <td>4</td>\n",
       "      <td>24</td>\n",
       "      <td>50</td>\n",
       "      <td>2.220</td>\n",
       "      <td>8.880</td>\n",
       "      <td>0.403</td>\n",
       "      <td>1.612</td>\n",
       "      <td>0.181532</td>\n",
       "    </tr>\n",
       "  </tbody>\n",
       "</table>\n",
       "</div>"
      ],
      "text/plain": [
       "    Bottle  Time_h  NaN3_mM  OD600_dilute   OD600  MTT_dilute    MTT       A_O\n",
       "0        1       0        0         1.299   5.196       0.674  2.696  0.518861\n",
       "1        2       0        5         1.291   5.164       0.879  3.516  0.680868\n",
       "2        3       0       25         1.238   4.952       0.600  2.400  0.484653\n",
       "3        4       0       50         1.250   5.000       1.060  4.240  0.848000\n",
       "4        1       4        0         1.279   5.116       1.369  5.476  1.070367\n",
       "5        2       4        5         1.265   5.060       0.687  2.748  0.543083\n",
       "6        3       4       25         1.220   4.880       0.103  0.412  0.084426\n",
       "7        4       4       50         1.260   5.040       0.558  2.232  0.442857\n",
       "8        1      24        0         2.500  10.000       1.652  6.608  0.660800\n",
       "9        2      24        5         2.316   9.264       0.458  1.832  0.197755\n",
       "10       3      24       25         2.318   9.272       0.467  1.868  0.201467\n",
       "11       4      24       50         2.220   8.880       0.403  1.612  0.181532"
      ]
     },
     "execution_count": 3,
     "metadata": {},
     "output_type": "execute_result"
    }
   ],
   "source": [
    "df = pandas.read_excel('data/MTT and NaN3.xlsx', sheet_name='First')\n",
    "df"
   ]
  },
  {
   "cell_type": "code",
   "execution_count": 5,
   "metadata": {},
   "outputs": [
    {
     "data": {
      "image/png": "[encoded data removed]",
      "text/plain": [
       "<Figure size 432x288 with 1 Axes>"
      ]
     },
     "metadata": {
      "needs_background": "light"
     },
     "output_type": "display_data"
    }
   ],
   "source": [
    "for time in [0, 4, 24]:\n",
    "    df_t = df.loc[df['Time_h'] == time]\n",
    "    plt.plot(df_t['OD600'], df_t['A_O'], 'o-', label=str(time) + ' h')\n",
    "    \n",
    "plt.legend()\n",
    "plt.ylabel('A$_550$/OD$_600$')\n",
    "plt.xlabel('NaN$_3$ (mM)')\n",
    "plt.show()"
   ]
  },
  {
   "cell_type": "code",
   "execution_count": 5,
   "metadata": {},
   "outputs": [
    {
     "data": {
      "image/png": "[encoded data removed]",
      "text/plain": [
       "<Figure size 432x288 with 1 Axes>"
      ]
     },
     "metadata": {
      "needs_background": "light"
     },
     "output_type": "display_data"
    }
   ],
   "source": [
    "fig = plt.figure()\n",
    "\n",
    "concs = [0, 5, 25, 50]\n",
    "markers = ['o', '^', 'P', 's']\n",
    "concs_markers = dict(zip(concs, markers))\n",
    "\n",
    "for conc in concs_markers:\n",
    "    df_t = df.loc[df['NaN3_mM'] == conc]\n",
    "    plt.plot(df_t['Time_h'], df_t['A_O'], str(concs_markers[conc]) + '--', label=str(conc) + ' mM', linewidth=0.5)\n",
    "\n",
    "plt.legend()\n",
    "plt.ylabel('Metabolic activity (A$_{550}$/OD$_{600}$)')\n",
    "plt.xlabel('time (h)')\n",
    "plt.draw()\n",
    "plt.show()"
   ]
  },
  {
   "cell_type": "markdown",
   "metadata": {},
   "source": [
    "# Second experiment"
   ]
  },
  {
   "cell_type": "code",
   "execution_count": 6,
   "metadata": {},
   "outputs": [
    {
     "data": {
      "image/png": "[encoded data removed]",
      "text/plain": [
       "<Figure size 504x216 with 2 Axes>"
      ]
     },
     "metadata": {
      "needs_background": "light"
     },
     "output_type": "display_data"
    }
   ],
   "source": [
    "df = pandas.read_excel('data/MTT and NaN3.xlsx', sheet_name='Second')\n",
    "concs = [0, 10, 100, 250, 500]\n",
    "colors = ['tab:blue', 'tab:orange', 'tab:green', 'tab:red', 'tab:purple']\n",
    "concs_colors = dict(zip(concs, colors))\n",
    "times = [0, 3, 24]\n",
    "\n",
    "\n",
    "fig, axes = plt.subplots(nrows=1, ncols=2, figsize=(7,3), sharex=True)\n",
    "fig.tight_layout()\n",
    "axes[0].grid(axis='y', linewidth=0.25)\n",
    "axes[1].grid(axis='y', linewidth=0.25)\n",
    "\n",
    "for conc in concs:\n",
    "    axes[0].errorbar([], [],  # mock plot for legend\n",
    "                     fmt='o', \n",
    "                     label=str(conc), \n",
    "                     color=concs_colors[conc])\n",
    "    \n",
    "    for time in times:\n",
    "        \n",
    "        # A550\n",
    "        mtt_triplicate_t = df.loc[(df['NaN3_mM']==conc) & (df['Time_h']==time)]['MTTu'].values\n",
    "        mtt_triplicate_t0 = df.loc[(df['NaN3_mM']==conc) & (df['Time_h']==0)]['MTTu'].values\n",
    "        mtt_relative_triplicate = mtt_triplicate_t/mtt_triplicate_t0\n",
    "        yerr = mtt_relative_triplicate.std()/numpy.sqrt(len(mtt_relative_triplicate))\n",
    "        y = mtt_relative_triplicate.mean()\n",
    "        x = time\n",
    "        \n",
    "        axes[0].errorbar(x, \n",
    "                         y, \n",
    "                         yerr=yerr,\n",
    "                         fmt='o',\n",
    "                         elinewidth=0.7,\n",
    "                         capsize=3,\n",
    "                         color=concs_colors[conc])\n",
    "        \n",
    "        # OD600\n",
    "        od_triplicate = df.loc[(df['NaN3_mM']==conc) & (df['Time_h']==time)]['OD600'].values\n",
    "        yerr = od_triplicate.std()/numpy.sqrt(len(od_triplicate))\n",
    "        y = od_triplicate.mean()\n",
    "        x = time\n",
    "        \n",
    "        axes[1].errorbar(x, \n",
    "                         y, \n",
    "                         yerr=yerr,\n",
    "                         fmt='o',\n",
    "                         elinewidth=0.7,\n",
    "                         capsize=3,\n",
    "                         color=concs_colors[conc])\n",
    "        \n",
    "        \n",
    "\n",
    "fig.legend(title='NaN$_3$ dose (mM)', loc='right', bbox_to_anchor=(1.2, 0.5))\n",
    "\n",
    "axes[0].set_ylabel('A$_{550}$ as a fraction of A$_{550}$ at $t = 0$ h')\n",
    "axes[0].set_xlabel('$t$ (h)')\n",
    "axes[0].set_xlim(-1, 26)\n",
    "axes[0].set_ylim(0, 1.8)\n",
    "\n",
    "axes[1].set_ylabel('OD$_{600}$')\n",
    "axes[1].set_xlabel('$t$ (h)')\n",
    "axes[1].set_ylim(0, 7)\n",
    "\n",
    "plt.draw()\n",
    "plt.show()\n"
   ]
  },
  {
   "cell_type": "code",
   "execution_count": 7,
   "metadata": {},
   "outputs": [],
   "source": [
    "fig.savefig('pics/metabolic activity vs NaN3.pdf', bbox_inches='tight')"
   ]
  },
  {
   "cell_type": "code",
   "execution_count": null,
   "metadata": {},
   "outputs": [],
   "source": []
  }
 ],
 "metadata": {
  "kernelspec": {
   "display_name": "Python 3",
   "language": "python",
   "name": "python3"
  },
  "language_info": {
   "codemirror_mode": {
    "name": "ipython",
    "version": 3
   },
   "file_extension": ".py",
   "mimetype": "text/x-python",
   "name": "python",
   "nbconvert_exporter": "python",
   "pygments_lexer": "ipython3",
   "version": "3.8.5"
  }
 },
 "nbformat": 4,
 "nbformat_minor": 4
}
