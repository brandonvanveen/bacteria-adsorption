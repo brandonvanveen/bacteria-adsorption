{
 "cells": [
  {
   "cell_type": "code",
   "execution_count": 122,
   "metadata": {},
   "outputs": [],
   "source": [
    "import pandas, matplotlib.pyplot as plt"
   ]
  },
  {
   "cell_type": "code",
   "execution_count": 123,
   "metadata": {},
   "outputs": [],
   "source": [
    "df = pandas.read_table('exported.txt')\n",
    "samples = df['Sample Name']\n",
    "zeta = df['Zeta Potential (mV)']\n",
    "\n",
    "samples = samples.str.split('(\\d+)([A-Za-z]+)',expand=True)\n",
    "samples.drop(0, axis=1, inplace=True)\n",
    "samples.columns = ['pH_nominal', 'mortality', 'run']\n",
    "samples['pH'] = \"\"\n",
    "\n",
    "actual_pHs = {'2':2.01,\n",
    "              '4':4.01,\n",
    "              '6':6.01,\n",
    "              '8':8.01,\n",
    "              '10':10.01,\n",
    "              '12':12.01}\n",
    "\n",
    "for pH_string in actual_pHs:\n",
    "    samples.loc[samples['pH_nominal'] == pH_string, 'pH'] = actual_pHs[pH_string]\n",
    "    \n",
    "df_sz = pandas.concat([samples, zeta], axis=1)\n",
    "\n",
    "duds = df_sz.loc[df_sz['run'].str.contains(\"_\") == True]\n",
    "duds_indices = duds.index.values\n",
    "\n",
    "df_sz = df_sz.drop(duds_indices)"
   ]
  },
  {
   "cell_type": "code",
   "execution_count": 124,
   "metadata": {},
   "outputs": [
    {
     "data": {
      "image/png": "[encoded data removed]",
      "text/plain": [
       "<Figure size 432x288 with 1 Axes>"
      ]
     },
     "metadata": {
      "needs_background": "light"
     },
     "output_type": "display_data"
    }
   ],
   "source": [
    "df_alive = df_sz.loc[df_sz['mortality'] == 'a']\n",
    "df_dead = df_sz.loc[df_sz['mortality'] == 'd']\n",
    "\n",
    "dfs_by_mortality = [df_alive, df_dead]\n",
    "mortalities = ['a', 'd']\n",
    "labels_by_mortality = ['uninhibited', 'inhibited']\n",
    "\n",
    "legend_by_mortality = dict(zip(mortalities, labels_by_mortality))\n",
    "# colors_by_mortality = []\n",
    "\n",
    "for df in dfs_by_mortality:\n",
    "    plt.plot(df['pH'], \n",
    "             df['Zeta Potential (mV)'],\n",
    "             'o', \n",
    "             label=legend_by_mortality[df_alive['mortality'][0]])\n",
    "    \n",
    "plt.xlabel('pH')\n",
    "plt.ylabel('zeta potential (mV)')\n",
    "plt.legend()\n",
    "plt.show()"
   ]
  },
  {
   "cell_type": "code",
   "execution_count": null,
   "metadata": {},
   "outputs": [],
   "source": []
  }
 ],
 "metadata": {
  "kernelspec": {
   "display_name": "Python 3",
   "language": "python",
   "name": "python3"
  },
  "language_info": {
   "codemirror_mode": {
    "name": "ipython",
    "version": 3
   },
   "file_extension": ".py",
   "mimetype": "text/x-python",
   "name": "python",
   "nbconvert_exporter": "python",
   "pygments_lexer": "ipython3",
   "version": "3.8.5"
  }
 },
 "nbformat": 4,
 "nbformat_minor": 4
}
