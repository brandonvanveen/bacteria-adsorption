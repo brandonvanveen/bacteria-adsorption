{
 "cells": [
  {
   "cell_type": "code",
   "execution_count": 1,
   "metadata": {},
   "outputs": [],
   "source": [
    "from protofit_wrapper import *\n",
    "from optimisation_settings import *\n",
    "from file_reader import *\n",
    "import matplotlib.pyplot as plt, numpy\n",
    "mass_1025 = 0.002796\n",
    "mass_conc = mass_1025*1000/100*1000\n"
   ]
  },
  {
   "cell_type": "markdown",
   "metadata": {},
   "source": [
    "# Optimisation"
   ]
  },
  {
   "cell_type": "code",
   "execution_count": 2,
   "metadata": {},
   "outputs": [],
   "source": [
    "pttwos = [TitrationData('input_data/1025/PC_LIMS_Report-20201026-135736.txt', '200uL_1', 0.10051, 0, mass_1025, -0.1),\n",
    "          TitrationData('input_data/1025/PC_LIMS_Report-20201026-150929.txt', '200uL_2', 0.10051, 0, mass_1025, -0.1),\n",
    "          TitrationData('input_data/1025/PC_LIMS_Report-20201026-161307.txt', '200uL_3', 0.100484, 0, mass_1025, -0.1)]\n",
    "\n",
    "twos = [TitrationData('input_data/1026/PC_LIMS_Report-20201027-133745.txt', '2000uL_1', 0.103476, 0, mass_1025*10, -0.1),\n",
    "        TitrationData('input_data/1026/PC_LIMS_Report-20201027-143046.txt', '2000uL_2', 0.103632, 0, mass_1025*10, -0.1),\n",
    "        TitrationData('input_data/1020/PC_LIMS_Report-20201021-201854.txt', '2000uL_3', 0.105585, 0, mass_1025*10, -0.1)]\n",
    "\n",
    "tens = [TitrationData('input_data/1026/PC_LIMS_Report-20201027-141130.txt', '10000uL_1', 0.11636, 0, mass_1025*50, -0.1),\n",
    "        TitrationData('input_data/1026/PC_LIMS_Report-20201027-141130.txt', '10000uL_2', 0.119036, 0, mass_1025*50, -0.1),\n",
    "        TitrationData('input_data/1020/PC_LIMS_Report-20201021-204044.txt', '10000uL_3', 0.116778, 0, mass_1025*50, -0.1)]\n",
    "\n",
    "concs = [pttwos, twos, tens]\n",
    "concentration_df = pandas.DataFrame(columns=['sites',\n",
    "                                             'run_name',\n",
    "                                             'electrostatic_model',\n",
    "                                             'lgK1_1',\n",
    "                                             'lgK2_1',\n",
    "                                             'lgC_1',\n",
    "                                             'lgK1_2',\n",
    "                                             'lgK2_2',\n",
    "                                             'lgC_2',\n",
    "                                             'lgK1_3',\n",
    "                                             'lgK2_3',\n",
    "                                             'lgC_3',\n",
    "                                             'lgK1_4',\n",
    "                                             'lgK2_4',\n",
    "                                             'lgC_4',\n",
    "                                             'AICc',\n",
    "                                             'SSE'])\n",
    "\n",
    "\n",
    "sites = [\"1_acidic\", \"1_basic\", \"1_acidic_1_basic\", \"2_acidic\", \"2_acidic_1_basic\", \"3_acidic\", \"4_acidic\"]\n",
    "sites_names = [sites[i].replace(\"_\",\" \") for i in range(len(sites))]\n",
    "\n",
    "electrostatic_model_numbers = [1, 2, 3, 4]\n",
    "electrostatic_model_names = ['DLM', 'CCM', 'DSM', 'NEM']\n",
    "\n",
    "def electrostatic_model_ID(num):\n",
    "    models = dict(zip(electrostatic_model_numbers, electrostatic_model_names))\n",
    "    return models[num]\n",
    "\n",
    "\n",
    "for electrostatic_model in electrostatic_model_numbers:\n",
    "    for site in sites:\n",
    "        for conc in concs:\n",
    "            for data_set in conc:\n",
    "                data_set.protofit_formatter()\n",
    "                create_protofit_main_inp(data_set.name, \"initial_conditions_\" + site + \".xlsx\", electrostatic_model=electrostatic_model, SSA=140, DV=1e-6)    \n",
    "                best_fit = optimise()\n",
    "                KKC = Results(data_set.name, best_fit)\n",
    "\n",
    "                n = data_set.nob\n",
    "                np = KKC.np\n",
    "                AICc = n*numpy.log(KKC.SSE/n) + 2*(np + 1) + 2*(np + 1)*(np + 2)/(n - np - 2)\n",
    "\n",
    "                KKC.df[['bacteria_dose','run']] = KKC.df.run_name.str.split(\"_\",expand=True)\n",
    "                KKC.df.loc[0,'sites'] = site\n",
    "                KKC.df.loc[0,'SSE'] = KKC.SSE\n",
    "                KKC.df.loc[0,'AICc'] = AICc\n",
    "                KKC.df.loc[0, 'electrostatic_model'] = electrostatic_model_ID(electrostatic_model)\n",
    "                concentration_df = concentration_df.append(KKC.df)"
   ]
  },
  {
   "cell_type": "markdown",
   "metadata": {},
   "source": [
    "# Finding the higest performing electrostatic model"
   ]
  },
  {
   "cell_type": "code",
   "execution_count": 6,
   "metadata": {},
   "outputs": [
    {
     "data": {
      "image/png": "[encoded data removed]",
      "text/plain": [
       "<Figure size 720x360 with 5 Axes>"
      ]
     },
     "metadata": {
      "needs_background": "light"
     },
     "output_type": "display_data"
    },
    {
     "data": {
      "text/plain": [
       "<Figure size 432x288 with 0 Axes>"
      ]
     },
     "metadata": {},
     "output_type": "display_data"
    }
   ],
   "source": [
    "group_df = concentration_df.groupby(['bacteria_dose', 'electrostatic_model', 'sites'])\n",
    "\n",
    "fig, axes = plt.subplots(1, 3, sharex=True, sharey=True, figsize=(10,5))\n",
    "fig.add_subplot(111, frameon=False)\n",
    "plt.tick_params(labelcolor='none', top=False, bottom=False, left=False, right=False)\n",
    "doses = ['200uL', '2000uL', '10000uL']\n",
    "doses_names = [int(numpy.round(mass_conc)), int(numpy.round(mass_conc)*10), int(numpy.round(mass_conc)*50)]\n",
    "doses_labels = dict(zip(doses, doses_names))\n",
    "\n",
    "i = 0\n",
    "\n",
    "for dose in doses:\n",
    "    heatmap_array = numpy.zeros((7,4))\n",
    "    row = 0\n",
    "    for site in sites:   \n",
    "        col = 0\n",
    "        for electrostatic_model in electrostatic_model_names:\n",
    "            heatmap_array[row][col] = group_df.get_group((dose, electrostatic_model, site))['AICc'].mean()\n",
    "            col += 1\n",
    "        row += 1\n",
    "    axes[i].set_yticks(ticks=numpy.arange(len(sites)))\n",
    "    axes[i].set_yticklabels(sites_names)\n",
    "    axes[i].set_xticks(numpy.arange(len(electrostatic_model_names)))\n",
    "    axes[i].set_xticklabels(electrostatic_model_names, rotation=90)\n",
    "    axes[i].set_title(str(doses_labels[dose]) + \" mg/L\")\n",
    "    im = axes[i].imshow(heatmap_array, cmap='RdYlGn_r', vmin=20, vmax=513)\n",
    "    i += 1\n",
    "cbar = axes[-1].figure.colorbar(im, ax=axes)\n",
    "cbar.set_label(\"AICc\", rotation=90)\n",
    "plt.show()\n",
    "plt.draw()"
   ]
  },
  {
   "cell_type": "code",
   "execution_count": 7,
   "metadata": {},
   "outputs": [],
   "source": [
    "fig.savefig('titration_biomass.png', dpi=600)"
   ]
  },
  {
   "cell_type": "code",
   "execution_count": 8,
   "metadata": {},
   "outputs": [
    {
     "data": {
      "text/html": [
       "<div>\n",
       "<style scoped>\n",
       "    .dataframe tbody tr th:only-of-type {\n",
       "        vertical-align: middle;\n",
       "    }\n",
       "\n",
       "    .dataframe tbody tr th {\n",
       "        vertical-align: top;\n",
       "    }\n",
       "\n",
       "    .dataframe thead th {\n",
       "        text-align: right;\n",
       "    }\n",
       "</style>\n",
       "<table border=\"1\" class=\"dataframe\">\n",
       "  <thead>\n",
       "    <tr style=\"text-align: right;\">\n",
       "      <th></th>\n",
       "      <th>lgK1_1</th>\n",
       "      <th>lgK2_1</th>\n",
       "      <th>lgC_1</th>\n",
       "      <th>lgK1_2</th>\n",
       "      <th>lgK2_2</th>\n",
       "      <th>lgC_2</th>\n",
       "      <th>lgK1_3</th>\n",
       "      <th>lgK2_3</th>\n",
       "      <th>lgC_3</th>\n",
       "      <th>lgK1_4</th>\n",
       "      <th>lgK2_4</th>\n",
       "      <th>lgC_4</th>\n",
       "      <th>AICc</th>\n",
       "      <th>SSE</th>\n",
       "    </tr>\n",
       "    <tr>\n",
       "      <th>bacteria_dose</th>\n",
       "      <th></th>\n",
       "      <th></th>\n",
       "      <th></th>\n",
       "      <th></th>\n",
       "      <th></th>\n",
       "      <th></th>\n",
       "      <th></th>\n",
       "      <th></th>\n",
       "      <th></th>\n",
       "      <th></th>\n",
       "      <th></th>\n",
       "      <th></th>\n",
       "      <th></th>\n",
       "      <th></th>\n",
       "    </tr>\n",
       "  </thead>\n",
       "  <tbody>\n",
       "    <tr>\n",
       "      <th>10000uL</th>\n",
       "      <td>0.015275</td>\n",
       "      <td>0.0</td>\n",
       "      <td>0.017321</td>\n",
       "      <td>0.574485</td>\n",
       "      <td>0.0</td>\n",
       "      <td>0.155885</td>\n",
       "      <td>0.206478</td>\n",
       "      <td>0.0</td>\n",
       "      <td>0.090738</td>\n",
       "      <td>0.525389</td>\n",
       "      <td>0.0</td>\n",
       "      <td>0.049329</td>\n",
       "      <td>132.764855</td>\n",
       "      <td>586.207264</td>\n",
       "    </tr>\n",
       "    <tr>\n",
       "      <th>2000uL</th>\n",
       "      <td>0.060828</td>\n",
       "      <td>0.0</td>\n",
       "      <td>0.036056</td>\n",
       "      <td>1.701245</td>\n",
       "      <td>0.0</td>\n",
       "      <td>0.136504</td>\n",
       "      <td>0.189033</td>\n",
       "      <td>0.0</td>\n",
       "      <td>0.098150</td>\n",
       "      <td>0.373140</td>\n",
       "      <td>0.0</td>\n",
       "      <td>0.151438</td>\n",
       "      <td>26.451924</td>\n",
       "      <td>142.272931</td>\n",
       "    </tr>\n",
       "    <tr>\n",
       "      <th>200uL</th>\n",
       "      <td>1.017251</td>\n",
       "      <td>0.0</td>\n",
       "      <td>0.316596</td>\n",
       "      <td>0.986120</td>\n",
       "      <td>0.0</td>\n",
       "      <td>0.087369</td>\n",
       "      <td>1.045004</td>\n",
       "      <td>0.0</td>\n",
       "      <td>1.502476</td>\n",
       "      <td>1.025199</td>\n",
       "      <td>0.0</td>\n",
       "      <td>0.795383</td>\n",
       "      <td>49.249617</td>\n",
       "      <td>71.527259</td>\n",
       "    </tr>\n",
       "  </tbody>\n",
       "</table>\n",
       "</div>"
      ],
      "text/plain": [
       "                 lgK1_1  lgK2_1     lgC_1    lgK1_2  lgK2_2     lgC_2  \\\n",
       "bacteria_dose                                                           \n",
       "10000uL        0.015275     0.0  0.017321  0.574485     0.0  0.155885   \n",
       "2000uL         0.060828     0.0  0.036056  1.701245     0.0  0.136504   \n",
       "200uL          1.017251     0.0  0.316596  0.986120     0.0  0.087369   \n",
       "\n",
       "                 lgK1_3  lgK2_3     lgC_3    lgK1_4  lgK2_4     lgC_4  \\\n",
       "bacteria_dose                                                           \n",
       "10000uL        0.206478     0.0  0.090738  0.525389     0.0  0.049329   \n",
       "2000uL         0.189033     0.0  0.098150  0.373140     0.0  0.151438   \n",
       "200uL          1.045004     0.0  1.502476  1.025199     0.0  0.795383   \n",
       "\n",
       "                     AICc         SSE  \n",
       "bacteria_dose                          \n",
       "10000uL        132.764855  586.207264  \n",
       "2000uL          26.451924  142.272931  \n",
       "200uL           49.249617   71.527259  "
      ]
     },
     "execution_count": 8,
     "metadata": {},
     "output_type": "execute_result"
    }
   ],
   "source": [
    "optimised_esm_sites = concentration_df.loc[(concentration_df['electrostatic_model'] == 'DSM') & \n",
    "                     (concentration_df['sites'] == '4_acidic')].groupby('bacteria_dose')\n",
    "\n",
    "optimised_esm_sites.std()"
   ]
  },
  {
   "cell_type": "code",
   "execution_count": null,
   "metadata": {},
   "outputs": [],
   "source": []
  },
  {
   "cell_type": "code",
   "execution_count": null,
   "metadata": {},
   "outputs": [],
   "source": []
  }
 ],
 "metadata": {
  "kernelspec": {
   "display_name": "Python 3",
   "language": "python",
   "name": "python3"
  },
  "language_info": {
   "codemirror_mode": {
    "name": "ipython",
    "version": 3
   },
   "file_extension": ".py",
   "mimetype": "text/x-python",
   "name": "python",
   "nbconvert_exporter": "python",
   "pygments_lexer": "ipython3",
   "version": "3.8.5"
  }
 },
 "nbformat": 4,
 "nbformat_minor": 4
}
