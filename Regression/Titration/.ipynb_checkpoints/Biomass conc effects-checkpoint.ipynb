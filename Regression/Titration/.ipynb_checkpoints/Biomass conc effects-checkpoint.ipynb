{
 "cells": [
  {
   "cell_type": "code",
   "execution_count": 1,
   "metadata": {},
   "outputs": [],
   "source": [
    "from file_reader import *\n",
    "from collections import defaultdict\n",
    "import matplotlib.pyplot as plt, numpy\n",
    "mass_1025 = 0.002796"
   ]
  },
  {
   "cell_type": "code",
   "execution_count": 2,
   "metadata": {},
   "outputs": [],
   "source": [
    "import pylab as pl\n",
    "# la = pl.matplotlib.font_manager.FontManager()\n",
    "# lu = pl.matplotlib.font_manager.FontProperties(family = 'Heuristica')\n",
    "# la.findfont(lu)\n",
    "\n",
    "plt.rc('text', usetex=True)\n",
    "plt.rc('text.latex', preamble=r'\\usepackage{heuristica}\\usepackage{newtxmath}\\usepackage[T1]{fontenc}\\usepackage{newtxmath}')\n"
   ]
  },
  {
   "cell_type": "code",
   "execution_count": 2,
   "metadata": {},
   "outputs": [
    {
     "data": {
      "image/png": "[encoded data removed]",
      "text/plain": [
       "<Figure size 432x288 with 1 Axes>"
      ]
     },
     "metadata": {
      "needs_background": "light"
     },
     "output_type": "display_data"
    }
   ],
   "source": [
    "fig = plt.figure()\n",
    "\n",
    "pttwos = [TitrationData('input_data/1025/PC_LIMS_Report-20201026-135736.txt', '200uL_0gpL_1', 0.10051, 0, mass_1025, -0.1),\n",
    "          TitrationData('input_data/1025/PC_LIMS_Report-20201026-150929.txt', '200uL_0gpL_2', 0.10051, 0, mass_1025, -0.1),\n",
    "          TitrationData('input_data/1025/PC_LIMS_Report-20201026-161307.txt', '200uL_0gpL_3', 0.100484, 0, mass_1025, -0.1)]\n",
    "\n",
    "twos = [TitrationData('input_data/1026/PC_LIMS_Report-20201027-133745.txt', '2000uL_1', 0.103476, 0, mass_1025*10, -0.1),\n",
    "        TitrationData('input_data/1026/PC_LIMS_Report-20201027-143046.txt', '2000uL_2', 0.103632, 0, mass_1025*10, -0.1),\n",
    "        TitrationData('input_data/1020/PC_LIMS_Report-20201021-201854.txt', '2000uL_3', 0.105585, 0, mass_1025*10, -0.1)]\n",
    "\n",
    "tens = [TitrationData('input_data/1026/PC_LIMS_Report-20201027-141130.txt', '10000uL_1', 0.11636, 0, mass_1025*50, -0.1),\n",
    "        TitrationData('input_data/1026/PC_LIMS_Report-20201027-141130.txt', '10000uL_2', 0.119036, 0, mass_1025*50, -0.1),\n",
    "        TitrationData('input_data/1020/PC_LIMS_Report-20201021-204044.txt', '10000uL_3', 0.116778, 0, mass_1025*50, -0.1)]\n",
    "\n",
    "concs = [pttwos, twos, tens]\n",
    "concs_names = ['pttwos', 'twos', 'tens']\n",
    "colours = ['tab:blue', 'tab:orange', 'tab:green']\n",
    "label_list = ['0.2 mL', '2 mL', '10 mL']\n",
    "doses = defaultdict(dict) \n",
    "\n",
    "for i in range(len(concs)):\n",
    "    source = doses[concs_names[i]]\n",
    "    source['d'] = concs[i] # 'd' is for data list defined above \n",
    "    source['c'] = colours[i] # 'c' is the colour specified\n",
    "    source['l'] = label_list[i] # 'l' is for label\n",
    "    \n",
    "for dose in doses:\n",
    "    conc = doses[dose]\n",
    "    for run in range(len(conc['d'])):\n",
    "        data = conc['d'][run].df\n",
    "        vols = data.vol.values # mL\n",
    "        init_vol = conc['d'][run].init_vol + vols/1000 # L\n",
    "        Nacid = -1*conc['d'][run].Nacid # mol/L\n",
    "        adsorbent_mass = conc['d'][run].adsorbent_mass # g\n",
    "        mols = vols/1000*Nacid/init_vol\n",
    "        plt.plot(data.pH, mols/adsorbent_mass, color=conc['c'], marker='+', linewidth=0, label=conc['l'] if run == 0 else \"\")\n",
    "\n",
    "plt.legend()\n",
    "plt.xlabel('pH')\n",
    "plt.ylabel('mol NaOH/g bacteria')\n",
    "plt.show()\n",
    "fig.savefig('biomass_fx.png', dpi=600)"
   ]
  },
  {
   "cell_type": "code",
   "execution_count": 8,
   "metadata": {},
   "outputs": [],
   "source": [
    "pttwos[0].protofit_formatter()"
   ]
  },
  {
   "cell_type": "code",
   "execution_count": 9,
   "metadata": {},
   "outputs": [
    {
     "data": {
      "text/plain": [
       "36"
      ]
     },
     "execution_count": 9,
     "metadata": {},
     "output_type": "execute_result"
    }
   ],
   "source": [
    "pttwos[0].nob"
   ]
  },
  {
   "cell_type": "code",
   "execution_count": null,
   "metadata": {},
   "outputs": [],
   "source": []
  }
 ],
 "metadata": {
  "kernelspec": {
   "display_name": "Python 3",
   "language": "python",
   "name": "python3"
  },
  "language_info": {
   "codemirror_mode": {
    "name": "ipython",
    "version": 3
   },
   "file_extension": ".py",
   "mimetype": "text/x-python",
   "name": "python",
   "nbconvert_exporter": "python",
   "pygments_lexer": "ipython3",
   "version": "3.8.3"
  }
 },
 "nbformat": 4,
 "nbformat_minor": 4
}
