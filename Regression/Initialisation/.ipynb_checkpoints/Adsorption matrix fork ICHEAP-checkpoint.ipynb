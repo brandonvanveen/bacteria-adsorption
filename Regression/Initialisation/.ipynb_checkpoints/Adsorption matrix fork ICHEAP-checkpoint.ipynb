{
 "cells": [
  {
   "cell_type": "code",
   "execution_count": 90,
   "metadata": {},
   "outputs": [
    {
     "data": {
      "text/plain": [
       "'/home/brandon/.local/share/fonts/Heuristica_Regular.otf'"
      ]
     },
     "execution_count": 90,
     "metadata": {},
     "output_type": "execute_result"
    }
   ],
   "source": [
    "import pylab as pl\n",
    "la = pl.matplotlib.font_manager.FontManager()\n",
    "lu = pl.matplotlib.font_manager.FontProperties(family = 'Heuristica')\n",
    "la.findfont(lu)"
   ]
  },
  {
   "cell_type": "code",
   "execution_count": 91,
   "metadata": {},
   "outputs": [
    {
     "data": {
      "text/html": [
       "<div>\n",
       "<style scoped>\n",
       "    .dataframe tbody tr th:only-of-type {\n",
       "        vertical-align: middle;\n",
       "    }\n",
       "\n",
       "    .dataframe tbody tr th {\n",
       "        vertical-align: top;\n",
       "    }\n",
       "\n",
       "    .dataframe thead th {\n",
       "        text-align: right;\n",
       "    }\n",
       "</style>\n",
       "<table border=\"1\" class=\"dataframe\">\n",
       "  <thead>\n",
       "    <tr style=\"text-align: right;\">\n",
       "      <th></th>\n",
       "      <th>Bottle</th>\n",
       "      <th>C_nom</th>\n",
       "      <th>V_ads</th>\n",
       "      <th>C_ads</th>\n",
       "      <th>C_AAi</th>\n",
       "      <th>df_i</th>\n",
       "      <th>C_i</th>\n",
       "      <th>C_AAf</th>\n",
       "      <th>df_f</th>\n",
       "      <th>C_f</th>\n",
       "      <th>Delta_C</th>\n",
       "      <th>Removal</th>\n",
       "      <th>Q</th>\n",
       "    </tr>\n",
       "  </thead>\n",
       "  <tbody>\n",
       "    <tr>\n",
       "      <th>0</th>\n",
       "      <td>1</td>\n",
       "      <td>50</td>\n",
       "      <td>0.2</td>\n",
       "      <td>0.002796</td>\n",
       "      <td>5.899</td>\n",
       "      <td>10</td>\n",
       "      <td>58.99</td>\n",
       "      <td>2.760</td>\n",
       "      <td>10</td>\n",
       "      <td>27.600</td>\n",
       "      <td>31.390</td>\n",
       "      <td>0.532124</td>\n",
       "      <td>11226.752504</td>\n",
       "    </tr>\n",
       "    <tr>\n",
       "      <th>1</th>\n",
       "      <td>2</td>\n",
       "      <td>50</td>\n",
       "      <td>1.0</td>\n",
       "      <td>0.013980</td>\n",
       "      <td>4.068</td>\n",
       "      <td>10</td>\n",
       "      <td>40.68</td>\n",
       "      <td>1.638</td>\n",
       "      <td>10</td>\n",
       "      <td>16.380</td>\n",
       "      <td>24.300</td>\n",
       "      <td>0.597345</td>\n",
       "      <td>1738.197425</td>\n",
       "    </tr>\n",
       "    <tr>\n",
       "      <th>2</th>\n",
       "      <td>3</td>\n",
       "      <td>50</td>\n",
       "      <td>1.8</td>\n",
       "      <td>0.025164</td>\n",
       "      <td>0.997</td>\n",
       "      <td>10</td>\n",
       "      <td>9.97</td>\n",
       "      <td>3.026</td>\n",
       "      <td>3</td>\n",
       "      <td>9.078</td>\n",
       "      <td>0.892</td>\n",
       "      <td>0.089468</td>\n",
       "      <td>35.447465</td>\n",
       "    </tr>\n",
       "    <tr>\n",
       "      <th>3</th>\n",
       "      <td>4</td>\n",
       "      <td>50</td>\n",
       "      <td>2.6</td>\n",
       "      <td>0.036348</td>\n",
       "      <td>3.605</td>\n",
       "      <td>10</td>\n",
       "      <td>36.05</td>\n",
       "      <td>6.549</td>\n",
       "      <td>3</td>\n",
       "      <td>19.647</td>\n",
       "      <td>16.403</td>\n",
       "      <td>0.455007</td>\n",
       "      <td>451.276549</td>\n",
       "    </tr>\n",
       "    <tr>\n",
       "      <th>4</th>\n",
       "      <td>5</td>\n",
       "      <td>50</td>\n",
       "      <td>3.4</td>\n",
       "      <td>0.047532</td>\n",
       "      <td>3.042</td>\n",
       "      <td>10</td>\n",
       "      <td>30.42</td>\n",
       "      <td>6.531</td>\n",
       "      <td>3</td>\n",
       "      <td>19.593</td>\n",
       "      <td>10.827</td>\n",
       "      <td>0.355917</td>\n",
       "      <td>227.783388</td>\n",
       "    </tr>\n",
       "  </tbody>\n",
       "</table>\n",
       "</div>"
      ],
      "text/plain": [
       "   Bottle  C_nom  V_ads     C_ads  C_AAi  df_i    C_i  C_AAf  df_f     C_f  \\\n",
       "0       1     50    0.2  0.002796  5.899    10  58.99  2.760    10  27.600   \n",
       "1       2     50    1.0  0.013980  4.068    10  40.68  1.638    10  16.380   \n",
       "2       3     50    1.8  0.025164  0.997    10   9.97  3.026     3   9.078   \n",
       "3       4     50    2.6  0.036348  3.605    10  36.05  6.549     3  19.647   \n",
       "4       5     50    3.4  0.047532  3.042    10  30.42  6.531     3  19.593   \n",
       "\n",
       "   Delta_C   Removal             Q  \n",
       "0   31.390  0.532124  11226.752504  \n",
       "1   24.300  0.597345   1738.197425  \n",
       "2    0.892  0.089468     35.447465  \n",
       "3   16.403  0.455007    451.276549  \n",
       "4   10.827  0.355917    227.783388  "
      ]
     },
     "execution_count": 91,
     "metadata": {},
     "output_type": "execute_result"
    }
   ],
   "source": [
    "import numpy, pandas, matplotlib.pyplot as plt, scipy.interpolate, os, scipy.optimize\n",
    "\n",
    "# plt.rcParams[\"text.usetex\"] = True\n",
    "# plt.rcParams[\"font.family\"] = \"Heuristica\"\n",
    "\n",
    "plt.rc('text', usetex=True)\n",
    "plt.rc('text.latex', preamble=r'\\usepackage{heuristica}\\usepackage{newtxmath}\\usepackage[T1]{fontenc}\\usepackage{newtxmath}')\n",
    "\n",
    "data = pandas.read_excel('Initialisaion_raw.xlsx', na_values='nan')\n",
    "data.head()\n"
   ]
  },
  {
   "cell_type": "code",
   "execution_count": 92,
   "metadata": {},
   "outputs": [
    {
     "data": {
      "image/png": "[encoded data removed]",
      "text/plain": [
       "<Figure size 432x288 with 2 Axes>"
      ]
     },
     "metadata": {
      "needs_background": "light"
     },
     "output_type": "display_data"
    },
    {
     "data": {
      "text/plain": [
       "<Figure size 432x288 with 0 Axes>"
      ]
     },
     "metadata": {},
     "output_type": "display_data"
    }
   ],
   "source": [
    "# data = data.drop(0)\n",
    "y = data['C_i'].values.flatten()\n",
    "x = data['C_ads'].values.flatten()\n",
    "z =  data['Removal'].replace(numpy.nan, 0).values.flatten()\n",
    "# z = data['Q'].values.flatten()\n",
    "X = numpy.linspace(x.min(), x.max(), 100)\n",
    "Y = numpy.linspace(y.min(), y.max(), 100)\n",
    "X,Y = numpy.meshgrid(X,Y)\n",
    "Z = scipy.interpolate.griddata((x, y), z, (X,Y), method='linear')\n",
    "\n",
    "fig = plt.figure()\n",
    "contour = plt.contourf(X, Y, Z, cmap='Greys')\n",
    "# labels = plt.clabel(contour, inline=2, fontsize=10)\n",
    "cbar = plt.colorbar()\n",
    "cbar.ax.set_ylabel('fraction of Pb$^{2+}$ removed')\n",
    "plt.ylim(80,350)\n",
    "plt.ylabel('$C_i$ (mg/L Pb$^{2+}$)')\n",
    "plt.xlabel('$C_{ads}$ (g/L dry bacteria)')\n",
    "# plt.plot(x, y,'o')\n",
    "plt.show()\n",
    "plt.draw()\n",
    "fig.savefig('adsorption matrix.pdf')\n",
    "fig.savefig('adsorption-matrix.png')"
   ]
  },
  {
   "cell_type": "code",
   "execution_count": 93,
   "metadata": {},
   "outputs": [
    {
     "data": {
      "image/png": "[encoded data removed]",
      "text/plain": [
       "<Figure size 720x360 with 3 Axes>"
      ]
     },
     "metadata": {
      "needs_background": "light"
     },
     "output_type": "display_data"
    },
    {
     "data": {
      "text/plain": [
       "<Figure size 432x288 with 0 Axes>"
      ]
     },
     "metadata": {},
     "output_type": "display_data"
    }
   ],
   "source": [
    "zs = ['Removal', 'Q']\n",
    "ylable = {'Removal':'fraction Pb(II) removed', 'Q':'$q_e$ (mg/g)'}\n",
    "xlable = {'Removal':'$C_i$ (mg/L)', 'Q':'$C_e$ (mg/L)'}\n",
    "cols = {'Removal':0, 'Q':1}\n",
    "formats = {'Removal':'o--', 'Q':'o'}\n",
    "x_axes = {'Removal':'C_i', 'Q':'C_f'}\n",
    "\n",
    "fig, axes = plt.subplots(nrows=1,ncols=len(zs), sharex=True, figsize=(10,5))\n",
    "fig.add_subplot(111,frameon=False)\n",
    "plt.tick_params(labelcolor='none', top=False, bottom=False, left=False, right=False)\n",
    "# plt.xlabel('$C_i$ (mg/L)',fontsize=17)\n",
    "\n",
    "group_Vads = data.groupby('V_ads')\n",
    "V_adss = list(group_Vads.groups.keys())\n",
    "group_Cads = data.groupby('C_ads')\n",
    "C_adss = numpy.array(list(group_Cads.groups.keys()))\n",
    "C_adss = numpy.round(C_adss*1000, decimals=1)\n",
    "legend_lable = dict(zip(V_adss, C_adss)) \n",
    "\n",
    "data = pandas.read_excel('Initialisaion_raw.xlsx', na_values='nan').drop(0)\n",
    "\n",
    "\n",
    "def langmuir(Ce, qmax, Kl):\n",
    "    return qmax*Kl*Ce/(1 + Kl*Ce)\n",
    "\n",
    "data_curve_fit = data[data['Q'].notna()]\n",
    "Qs = data_curve_fit.Q.values.flatten()\n",
    "Ces = data_curve_fit.C_f.values.flatten()\n",
    "parms, _ = scipy.optimize.curve_fit(langmuir, Ces, Qs, [2500, 100])\n",
    "qmax, Kl = parms\n",
    "cont_Ces = numpy.linspace(0, Ces.max(), 100)\n",
    "\n",
    "for z in zs:\n",
    "    for V_ads in V_adss:\n",
    "        data_cnom = data.loc[data['V_ads'] == V_ads]\n",
    "        axes[cols[z]].plot(data_cnom[x_axes[z]], data_cnom[z],formats[z], linewidth=0.7, label=str(legend_lable[V_ads]))\n",
    "#     axes[cols[z]].legend(fontsize=13)\n",
    "    axes[cols[z]].set_ylabel(ylable[z],fontsize=17)\n",
    "    axes[cols[z]].set_xlabel(xlable[z],fontsize=17)\n",
    "    axes[cols[z]].tick_params(axis='x', labelsize= 14)\n",
    "    axes[cols[z]].tick_params(axis='y', labelsize= 14)\n",
    "handles, labels = axes[0].get_legend_handles_labels()\n",
    "fig.legend(handles, labels, loc=(0.35,0.62), title='biomass (mg/L)', fontsize=12)\n",
    "plt.annotate('(a)', (0.2, 0.9), fontsize=20)\n",
    "plt.annotate('(b)', (0.76, 0.9), fontsize=20)\n",
    "plt.tight_layout()\n",
    "plt.show()\n",
    "plt.draw()\n",
    "\n",
    "path = '/mnt/0E786F10786EF63D/Users/brand/Documents/University/MEng/Project/Writeup/Main/Experimental/Pics'\n",
    "filename='conc-vs-rem.pdf'\n",
    "\n",
    "fig.savefig(os.path.join(path, filename), bbox_inches='tight')"
   ]
  }
 ],
 "metadata": {
  "kernelspec": {
   "display_name": "Python 3",
   "language": "python",
   "name": "python3"
  },
  "language_info": {
   "codemirror_mode": {
    "name": "ipython",
    "version": 3
   },
   "file_extension": ".py",
   "mimetype": "text/x-python",
   "name": "python",
   "nbconvert_exporter": "python",
   "pygments_lexer": "ipython3",
   "version": "3.8.3"
  }
 },
 "nbformat": 4,
 "nbformat_minor": 4
}
