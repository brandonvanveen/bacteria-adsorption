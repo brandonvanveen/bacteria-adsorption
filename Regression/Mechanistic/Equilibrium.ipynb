{
 "cells": [
  {
   "cell_type": "code",
   "execution_count": 1,
   "metadata": {},
   "outputs": [],
   "source": [
    "from scipy.optimize import minimize, fsolve, least_squares\n",
    "import matplotlib.pyplot as plt, numpy"
   ]
  },
  {
   "cell_type": "code",
   "execution_count": 2,
   "metadata": {},
   "outputs": [],
   "source": [
    "Kw = 10e-14\n",
    "K = [1.7e-5, 10**(-7.597)]\n",
    "Pb_tot = 500/207.2*1e-3 #M\n",
    "NO3_m_tot = Pb_tot*2\n",
    "NaCl = 1/58.44 #M\n",
    "NaN3 = 0.05/100 #M"
   ]
  },
  {
   "cell_type": "code",
   "execution_count": 3,
   "metadata": {},
   "outputs": [
    {
     "data": {
      "text/plain": [
       "6.032818532818533e-10"
      ]
     },
     "execution_count": 3,
     "metadata": {},
     "output_type": "execute_result"
    }
   ],
   "source": [
    "NaN3**2*Pb_tot"
   ]
  },
  {
   "cell_type": "code",
   "execution_count": 4,
   "metadata": {},
   "outputs": [
    {
     "name": "stdout",
     "output_type": "stream",
     "text": [
      "[2.17852414e-03 2.34632131e-04 1.66423159e-02 2.43094970e-08]\n",
      "Pb+2 PbCl2 Cl- PbOH\n"
     ]
    }
   ],
   "source": [
    "compounds = numpy.array([0.9*Pb_tot,     # 0 - Pb2+\n",
    "                         0.1*Pb_tot,     # 1 - PbCl2\n",
    "                         NaCl,           # 2 - Cl-\n",
    "                         0.0001*Pb_tot]) # 3 - PbOH-\n",
    "\n",
    "\n",
    "bounds = ((0,numpy.inf))\n",
    "pHs = numpy.linspace(4,12)\n",
    "equilib_concs = numpy.array([])\n",
    "i = 0\n",
    "\n",
    "pH = 12\n",
    "\n",
    "# for pH in pHs:\n",
    "H_p = 10**(-pH)\n",
    "\n",
    "def equilibrium(compounds):\n",
    "    leadbalance = Pb_tot - (compounds[0] + compounds[1] + compounds[3])\n",
    "    chlorinebalance = NaCl - (2*compounds[1] + compounds[2])\n",
    "    eq0 = compounds[0]*compounds[2]**2 - K[0]\n",
    "    eq1 = compounds[3]*H_p/compounds[0] - K[1]\n",
    "\n",
    "    return [leadbalance,\n",
    "            chlorinebalance,\n",
    "            eq0,\n",
    "            eq1]\n",
    "\n",
    "compounds = least_squares(equilibrium, compounds, bounds=bounds).x\n",
    "print(compounds)\n",
    "print('Pb+2', 'PbCl2', 'Cl-', 'PbOH')"
   ]
  },
  {
   "cell_type": "code",
   "execution_count": 5,
   "metadata": {},
   "outputs": [
    {
     "name": "stdout",
     "output_type": "stream",
     "text": [
      "[-5.421010862427522e-20, -1.4151867422361082e-09]\n",
      "[-5.421010862427522e-20, -8.897320827168913e-09]\n",
      "[-5.421010862427522e-20, -1.4034919554755325e-08]\n",
      "[-5.421010862427522e-20, -1.756264578714808e-08]\n",
      "[-5.421010862427522e-20, -1.9984954930111952e-08]\n",
      "[-5.421010862427522e-20, -2.1648230705371448e-08]\n",
      "[-5.421010862427522e-20, -2.2790317095377014e-08]\n",
      "[-5.421010862427522e-20, -2.3574529395969463e-08]\n",
      "[-5.421010862427522e-20, -2.4113007866409436e-08]\n",
      "[-5.421010862427522e-20, -2.4482753486196725e-08]\n",
      "[-5.421010862427522e-20, -2.4736638888969068e-08]\n",
      "[-5.421010862427522e-20, -2.4910969007546148e-08]\n",
      "[-5.421010862427522e-20, -2.5030672582116563e-08]\n",
      "[-5.421010862427522e-20, -2.5112866903338223e-08]\n",
      "[-5.421010862427522e-20, -2.5169305539070988e-08]\n",
      "[-5.421010862427522e-20, -2.520805906311051e-08]\n",
      "[-5.421010862427522e-20, -2.5234669125632093e-08]\n",
      "[-5.421010862427522e-20, -2.5252940894328033e-08]\n",
      "[-5.421010862427522e-20, -2.5265487183199285e-08]\n",
      "[-5.421010862427522e-20, -2.527410207796182e-08]\n",
      "[-5.421010862427522e-20, -2.5280017485500347e-08]\n",
      "[-5.421010862427522e-20, -2.528407929325441e-08]\n",
      "[-5.421010862427522e-20, -2.5286868328857363e-08]\n",
      "[-5.421010862427522e-20, -2.5288783416932807e-08]\n",
      "[-5.421010862427522e-20, -2.5290098409947894e-08]\n",
      "[-5.421010862427522e-20, -2.5291001348382893e-08]\n",
      "[-5.421010862427522e-20, -2.529162135001639e-08]\n",
      "[-5.421010862427522e-20, -2.5292047073421935e-08]\n",
      "[-5.421010862427522e-20, -2.5292339395906645e-08]\n",
      "[-5.421010862427522e-20, -2.529254011880314e-08]\n",
      "[-5.421010862427522e-20, -2.5292677944948182e-08]\n",
      "[-5.421010862427522e-20, -2.5292772583111487e-08]\n",
      "[-5.421010862427522e-20, -2.5292837566297014e-08]\n",
      "[-5.421010862427522e-20, -2.52928821869263e-08]\n",
      "[-5.421010862427522e-20, -2.5292912825629863e-08]\n",
      "[-5.421010862427522e-20, -2.529293386366028e-08]\n",
      "[-5.421010862427522e-20, -2.5292948309399563e-08]\n",
      "[-5.421010862427522e-20, -2.529295822854976e-08]\n",
      "[-5.421010862427522e-20, -2.5292965039522785e-08]\n",
      "[-5.421010862427522e-20, -2.5292969716269543e-08]\n",
      "[-5.421010862427522e-20, -2.5292972927552307e-08]\n",
      "[-5.421010862427522e-20, -2.5292975132575905e-08]\n",
      "[-5.421010862427522e-20, -2.5292976646652814e-08]\n",
      "[-5.421010862427522e-20, -2.5292977686291974e-08]\n",
      "[-5.421010862427522e-20, -2.5292978400159e-08]\n",
      "[-5.421010862427522e-20, -2.5292978890334972e-08]\n",
      "[-5.421010862427522e-20, -2.5292979226913738e-08]\n",
      "[-5.421010862427522e-20, -2.5292979458025155e-08]\n",
      "[-5.421010862427522e-20, -2.5292979616717546e-08]\n",
      "[-5.421010862427522e-20, -2.529297972568349e-08]\n"
     ]
    }
   ],
   "source": [
    "Kw = 10e-14\n",
    "K = [1.7e-5, 10**(-7.597)]\n",
    "Pb_tot = 80/207.2*1e-3 #M\n",
    "NO3_m_tot = Pb_tot*2\n",
    "NaCl = 10/58.44*0 #M\n",
    "\n",
    "\n",
    "compounds = numpy.array([0.9*Pb_tot,     # 0 - Pb2+\n",
    "                         0.0001*Pb_tot]) # 3 - PbOH-\n",
    "\n",
    "\n",
    "bounds = ((0,numpy.inf))\n",
    "pHs = numpy.linspace(4,12)\n",
    "equilib_concs = numpy.array([])\n",
    "i = 0\n",
    "\n",
    "pH = 6\n",
    "\n",
    "for pH in pHs:\n",
    "    H_p = 10**(-pH)\n",
    "\n",
    "    def equilibrium(compounds):\n",
    "        leadbalance = Pb_tot - (compounds[0] + compounds[1])\n",
    "        eq1 = compounds[1]*H_p/compounds[0] - K[1]\n",
    "\n",
    "        return [leadbalance,\n",
    "                eq1]\n",
    "\n",
    "    compounds = least_squares(equilibrium, compounds, bounds=bounds).x\n",
    "#     print(compounds)\n",
    "    print(equilibrium(compounds))\n",
    "#     print('Pb+2', 'PbCl2', 'Cl-', 'PbOH')\n"
   ]
  },
  {
   "cell_type": "code",
   "execution_count": 12,
   "metadata": {},
   "outputs": [
    {
     "data": {
      "text/plain": [
       "array([[3.77308007e-04, 8.79237933e-06],\n",
       "       [3.77308007e-04, 8.79237933e-06]])"
      ]
     },
     "execution_count": 12,
     "metadata": {},
     "output_type": "execute_result"
    }
   ],
   "source": [
    "numpy.vstack((compounds,compounds))"
   ]
  },
  {
   "cell_type": "code",
   "execution_count": null,
   "metadata": {},
   "outputs": [],
   "source": []
  }
 ],
 "metadata": {
  "kernelspec": {
   "display_name": "Python 3",
   "language": "python",
   "name": "python3"
  },
  "language_info": {
   "codemirror_mode": {
    "name": "ipython",
    "version": 3
   },
   "file_extension": ".py",
   "mimetype": "text/x-python",
   "name": "python",
   "nbconvert_exporter": "python",
   "pygments_lexer": "ipython3",
   "version": "3.8.3"
  }
 },
 "nbformat": 4,
 "nbformat_minor": 4
}
