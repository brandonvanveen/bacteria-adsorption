{
 "cells": [
  {
   "cell_type": "code",
   "execution_count": 1,
   "metadata": {},
   "outputs": [],
   "source": [
    "from scipy.optimize import fsolve, least_squares\n",
    "import numpy, matplotlib.pyplot as plt"
   ]
  },
  {
   "cell_type": "code",
   "execution_count": 13,
   "metadata": {},
   "outputs": [
    {
     "data": {
      "image/png": "[encoded data removed]",
      "text/plain": [
       "<Figure size 432x288 with 1 Axes>"
      ]
     },
     "metadata": {
      "needs_background": "light"
     },
     "output_type": "display_data"
    }
   ],
   "source": [
    "Kw = 10e-14\n",
    "K1 = 10**(-7.597)\n",
    "K2 = 10**(-17.094)\n",
    "K3 = 10**(-28.091)\n",
    "K4 = 10**(-6.397)\n",
    "K5 = 10**(-23.888)\n",
    "K6 = 10**(-39.699)\n",
    "Kchl2 = 10**(2.2)\n",
    "Kchl1 = 10**(1.8)\n",
    "Pb_tot = 80/207.2*1e-3 #M\n",
    "NO3_m_tot = Pb_tot*2\n",
    "NaCl = 10/58.44*0 #M\n",
    "\n",
    "\n",
    "pHs = numpy.linspace(4,10,100)\n",
    "var0 = [0.999*Pb_tot, 0.0001*Pb_tot, 0.0001*Pb_tot, 0.0001*Pb_tot, 0.0001*Pb_tot, 0.0001*Pb_tot, 0.0001*Pb_tot, 0.8*Pb_tot, NaCl-0.8*Pb_tot, NaCl-0.8*Pb_tot]\n",
    "\n",
    "list_Pb_2p = []\n",
    "list_PbOH_m = []\n",
    "list_PbOH2 = []\n",
    "list_Pb2OH_3p = []\n",
    "list_PbOH3_m = []\n",
    "list_Pb3OH4_2p = []\n",
    "list_PbOH4_2m = []\n",
    "list_PbCl2 = []\n",
    "list_PbCl_p = []\n",
    "\n",
    "for pH in pHs:\n",
    "\n",
    "    H_p = 10**(-pH)\n",
    "    OH_m = Kw/H_p\n",
    "\n",
    "    def equilibrium(var):\n",
    "        Pb_2p, PbOH_m, PbOH2, Pb2OH_3p, PbOH3_m, Pb3OH4_2p, PbOH4_2m, PbCl2, Cl_m, PbCl_p = var\n",
    "        massbalance = Pb_tot - (Pb_2p + PbOH_m + PbOH2 + 2*Pb2OH_3p + PbOH3_m + 3*Pb3OH4_2p + PbOH4_2m + PbCl2 + PbCl_p)\n",
    "        chlorinebalance = NaCl - (2*PbCl2 + Cl_m + PbCl_p)\n",
    "        chargebalance = 2*Pb_2p + PbOH_m + H_p + 3*Pb2OH_3p + Pb3OH4_2p - (OH_m + NO3_m_tot + PbOH3_m + 2*PbOH4_2m)\n",
    "        eq1 = PbOH_m*H_p/Pb_2p - K1\n",
    "        eq2 = PbOH2*H_p**2/Pb_2p - K2\n",
    "        eq3 = PbOH3_m*H_p**3/Pb_2p - K3\n",
    "        eq4 = Pb2OH_3p*H_p/Pb_2p**2 - K4\n",
    "        eq5 = Pb3OH4_2p*H_p**4/Pb_2p**3 - K5\n",
    "        eq6 = PbOH4_2m*H_p**4/Pb_2p - K6\n",
    "        eqcl2 = Pb_2p*Cl_m**2*0  - Kchl2*0\n",
    "        eqclp = Pb_2p*Cl_m/PbCl_p - Kchl1*0\n",
    "        \n",
    "        return [massbalance,\n",
    "                eq1,\n",
    "                eq2,\n",
    "                eq3,\n",
    "                eq4,\n",
    "                eq5,\n",
    "                eq6,\n",
    "                eqcl2,\n",
    "                eqclp,\n",
    "                chlorinebalance]\n",
    "\n",
    "    Pb_2p, PbOH_m, PbOH2, Pb2OH_3p, PbOH3_m, Pb3OH4_2p, PbOH4_2m, PbCl2, Cl_m, PbCl_p = fsolve(equilibrium,var0)\n",
    "    var0 = [Pb_2p, PbOH_m, PbOH2, Pb2OH_3p, PbOH3_m, Pb3OH4_2p, PbOH4_2m, PbCl2, Cl_m, PbCl_p]\n",
    "    list_Pb_2p.append(Pb_2p)\n",
    "    list_PbOH_m.append(PbOH_m)\n",
    "    list_PbOH2.append(PbOH2)\n",
    "    list_Pb2OH_3p.append(Pb2OH_3p)\n",
    "    list_PbOH3_m.append(PbOH3_m)\n",
    "    list_Pb3OH4_2p.append(Pb3OH4_2p)\n",
    "    list_PbOH4_2m.append(PbOH4_2m)\n",
    "    list_PbCl2.append(PbCl2)\n",
    "    list_PbCl_p.append(PbCl_p)\n",
    "    \n",
    "array_Pb_2p = numpy.array(list_Pb_2p)\n",
    "array_PbOH_m = numpy.array(list_PbOH_m)\n",
    "array_PbOH2 = numpy.array(list_PbOH2)\n",
    "array_Pb2OH_3p = numpy.array(list_Pb2OH_3p)\n",
    "array_PbOH3_m = numpy.array(list_PbOH3_m)\n",
    "array_Pb3OH4_2p = numpy.array(list_Pb3OH4_2p)\n",
    "array_PbOH4_2m = numpy.array(list_PbOH4_2m)\n",
    "array_PbCl2 = numpy.array(list_PbCl2)\n",
    "array_PbCl_p = numpy.array(list_PbCl_p)\n",
    "\n",
    "\n",
    "    \n",
    "plt.plot(pHs, (array_Pb_2p/Pb_tot),label='Pb2+')\n",
    "plt.plot(pHs, (array_PbOH_m/Pb_tot), label = 'PbOH+') \n",
    "plt.plot(pHs, (array_PbOH2/Pb_tot), label='Pb(OH)2')\n",
    "plt.plot(pHs, array_Pb2OH_3p/Pb_tot,label='Pb2OH3+')\n",
    "plt.plot(pHs, array_PbOH3_m/Pb_tot, label='Pb(OH)3-')\n",
    "plt.plot(pHs, array_Pb3OH4_2p/Pb_tot, label = 'Pb3(OH)4+2')\n",
    "plt.plot(pHs, array_PbOH4_2m/Pb_tot, label='Pb(OH)4-2')\n",
    "plt.plot(pHs, array_PbCl2/Pb_tot, label='PbCl2')\n",
    "plt.plot(pHs, array_PbCl_p/Pb_tot, label='PbCl+')\n",
    "plt.legend()\n",
    "plt.show()"
   ]
  },
  {
   "cell_type": "code",
   "execution_count": 3,
   "metadata": {},
   "outputs": [
    {
     "data": {
      "image/png": "[encoded data removed]",
      "text/plain": [
       "<Figure size 432x288 with 1 Axes>"
      ]
     },
     "metadata": {
      "needs_background": "light"
     },
     "output_type": "display_data"
    },
    {
     "data": {
      "text/plain": [
       "(9.968170060093744e-05, 0.0002864186854994487)"
      ]
     },
     "execution_count": 3,
     "metadata": {},
     "output_type": "execute_result"
    }
   ],
   "source": [
    "Kw = 10e-14\n",
    "K1 = 10**(-7.597)\n",
    "K2 = 10**(-17.094)\n",
    "K3 = 10**(-28.091)\n",
    "K4 = 10**(-6.397)\n",
    "K5 = 10**(-23.888)\n",
    "K6 = 10**(-39.699)\n",
    "K5b = 7.94e-33\n",
    "\n",
    "Pb_tot = 80/207.2*1e-3 #M\n",
    "NO3_m_tot = Pb_tot*2\n",
    "NaCl = 10/58.44 #M\n",
    "pH = 6\n",
    "\n",
    "pHs = numpy.linspace(4,12,100)\n",
    "var0 = [0.999*Pb_tot, 1, 1]\n",
    "\n",
    "list_Pb_2p = []\n",
    "list_PbOH_m = []\n",
    "list_PbOH2 = []\n",
    "list_Pb2OH_3p = []\n",
    "list_PbOH3_m = []\n",
    "Pb_tott_Pb3OH4_2p = []\n",
    "list_PbOH4_2m = []\n",
    "list_PbCl2 = []\n",
    "\n",
    "for pH in pHs:\n",
    "\n",
    "    H_p = 10**(-pH)\n",
    "    OH_m = Kw/H_p\n",
    "\n",
    "    def equilibrium(var):\n",
    "        Pb_2p, PbCl2, Cl_m = var\n",
    "        massbalance = Pb_tot - (Pb_2p + PbCl2)\n",
    "        chlorinebalance = NaCl - (2*PbCl2 + Cl_m)\n",
    "#         chargebalance = 2*Pb_2p + OH_m + H_p + 3*Pb2OH_3p + Pb3OH4_2p - (OH_m + NO3_m_tot + PbOH3_m + 2*PbOH4_2m)\n",
    "        eqcl2 = Pb_2p*Cl_m - Kchl2\n",
    "        \n",
    "#         eq5b = (Pb_2p**3)*OH_m**4/Pb3OH4_2p - K5b\n",
    "\n",
    "        return [massbalance,\n",
    "                eqcl2,\n",
    "                chlorinebalance]\n",
    "\n",
    "    Pb_2p, PbCl2, Cl_m = fsolve(equilibrium,var0)\n",
    "    var0 = [Pb_2p, PbCl2, Cl_m]\n",
    "    list_Pb_2p.append(Pb_2p)\n",
    "    list_PbCl2.append(PbCl2)\n",
    "    \n",
    "array_Pb_2p = numpy.array(list_Pb_2p)\n",
    "array_PbCl2 = numpy.array(list_PbCl2)\n",
    "\n",
    "    \n",
    "plt.plot(pHs, array_Pb_2p/Pb_tot,label='Pb2+')\n",
    "plt.plot(pHs, array_PbCl2/Pb_tot, label='PbCl2')\n",
    "plt.legend()\n",
    "\n",
    "plt.show()\n",
    "\n",
    "array_Pb_2p[0], array_PbCl2[0]"
   ]
  },
  {
   "cell_type": "code",
   "execution_count": null,
   "metadata": {},
   "outputs": [],
   "source": []
  }
 ],
 "metadata": {
  "kernelspec": {
   "display_name": "Python 3",
   "language": "python",
   "name": "python3"
  },
  "language_info": {
   "codemirror_mode": {
    "name": "ipython",
    "version": 3
   },
   "file_extension": ".py",
   "mimetype": "text/x-python",
   "name": "python",
   "nbconvert_exporter": "python",
   "pygments_lexer": "ipython3",
   "version": "3.8.3"
  }
 },
 "nbformat": 4,
 "nbformat_minor": 4
}
