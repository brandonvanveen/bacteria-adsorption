{
 "cells": [
  {
   "cell_type": "markdown",
   "metadata": {},
   "source": [
    "[PHREEQC](http://wwwbrr.cr.usgs.gov/projects/GWC_coupled/phreeqc/index.html) -- __[phreeqpy](http://www.phreeqpy.com)__ example. Taken directly from a Python example (section 3.2, Table 3) in Charlton & Parkhurst (2011), which _compares gypsum solubility for WATEQ4F and Pitzer databases_. Compiled and run on Linux Ubuntu 64bit. [Emilio Mayorga](https://gist.github.com/emiliom), 12/8/2013\n",
    "\n",
    "  * Charlton, S. R., Parkhurst, D. L. 2011. Modules based on the geochemical model PHREEQC for use in scripting and programming languages. _Computers & Geosciences_ 37 (10), 1653-1663. http://dx.doi.org/10.1016/j.cageo.2011.02.005\n",
    "  * [phreeqpy ](http://www.phreeqpy.com)"
   ]
  },
  {
   "cell_type": "code",
   "execution_count": 1,
   "metadata": {
    "collapsed": false,
    "jupyter": {
     "outputs_hidden": false
    }
   },
   "outputs": [],
   "source": [
    "import os\n",
    "import phreeqpy.iphreeqc.phreeqc_dll as phreeqc_mod\n",
    "import matplotlib.pyplot as plt"
   ]
  },
  {
   "cell_type": "code",
   "execution_count": 2,
   "metadata": {
    "collapsed": false,
    "jupyter": {
     "outputs_hidden": false
    }
   },
   "outputs": [],
   "source": [
    "# path for .dat files\n",
    "datpath = \"/home/brandon/Downloads/iphreeqc-3.4.0-12927/examples/com/python\""
   ]
  },
  {
   "cell_type": "code",
   "execution_count": 3,
   "metadata": {
    "collapsed": false,
    "jupyter": {
     "outputs_hidden": false
    }
   },
   "outputs": [],
   "source": [
    "def selected_array(db_path, input_string):\n",
    "    \"\"\"Load database via linked library object and run input string.\n",
    "    May be more conventional to use variable name 'phreeqc' instead of 'dbase'.\n",
    "    \"\"\"\n",
    "    dbase = phreeqc_mod.IPhreeqc('/usr/local/lib/libiphreeqc.so')\n",
    "    dbase.load_database(db_path)\n",
    "    dbase.run_string(input_string)\n",
    "    return dbase.get_selected_output_array()"
   ]
  },
  {
   "cell_type": "code",
   "execution_count": 12,
   "metadata": {
    "collapsed": false,
    "jupyter": {
     "outputs_hidden": false
    }
   },
   "outputs": [],
   "source": [
    "# Reaction configuration\n",
    "input_string = \"\"\"\n",
    "    SOLUTION 1\n",
    "    END\n",
    "    INCREMENTAL_REACTIONS\n",
    "    REACTION\n",
    "        NaCl 1.0\n",
    "        0 60*0.1 moles\n",
    "    EQUILIBRIUM_PHASES\n",
    "        Gypsum\n",
    "    USE solution 1\n",
    "    SELECTED_OUTPUT\n",
    "        -reset false\n",
    "        -total Na S(6)\n",
    "    END\"\"\""
   ]
  },
  {
   "cell_type": "code",
   "execution_count": 13,
   "metadata": {
    "collapsed": false,
    "jupyter": {
     "outputs_hidden": false
    }
   },
   "outputs": [],
   "source": [
    "# Get results for different databases\n",
    "wateq4f_result = selected_array(os.path.join(datpath, 'wateq4f.dat'), input_string)\n",
    "pitzer_result  = selected_array(os.path.join(datpath, 'pitzer.dat'), input_string)\n",
    "# Get data from the arrays.\n",
    "nacl_conc      = [entry[0] for entry in wateq4f_result][1:]\n",
    "wateq4f_values = [entry[1] for entry in wateq4f_result][1:]\n",
    "pitzer_values  = [entry[1] for entry in pitzer_result][1:]"
   ]
  },
  {
   "cell_type": "code",
   "execution_count": 14,
   "metadata": {},
   "outputs": [
    {
     "data": {
      "text/plain": [
       "[0.015649756393342193,\n",
       " 0.02196618860422608,\n",
       " 0.025841408775123163,\n",
       " 0.028805377040004448,\n",
       " 0.03122144312988203,\n",
       " 0.03325240743624757,\n",
       " 0.03498984345367875,\n",
       " 0.03649218631157961,\n",
       " 0.03779988962315772,\n",
       " 0.03894260638583739,\n",
       " 0.03994301228322175,\n",
       " 0.04081902071816426,\n",
       " 0.04158515127291307,\n",
       " 0.042253419222998516,\n",
       " 0.042833938081907406,\n",
       " 0.0433353419710134,\n",
       " 0.04376509037346027,\n",
       " 0.04412969353581418,\n",
       " 0.04443488279388351,\n",
       " 0.04468574172211632,\n",
       " 0.04488680880583797,\n",
       " 0.045042159015332685,\n",
       " 0.04515546947958666,\n",
       " 0.045230072992222425,\n",
       " 0.04526900207637505,\n",
       " 0.045275025631717127,\n",
       " 0.04525067968619225,\n",
       " 0.04519829341313292,\n",
       " 0.04512001130910284,\n",
       " 0.04501781223068333,\n",
       " 0.044893525840208594,\n",
       " 0.04474884689775945,\n",
       " 0.04458534775014039,\n",
       " 0.044404489300409515,\n",
       " 0.044207630688962336,\n",
       " 0.043996037875683576,\n",
       " 0.04377089127967711,\n",
       " 0.04353329260663496,\n",
       " 0.04328427097256116,\n",
       " 0.04302478841523151,\n",
       " 0.04275574487059859,\n",
       " 0.04247798267970446,\n",
       " 0.04219229068203278,\n",
       " 0.04189940794323102,\n",
       " 0.04160002715845029,\n",
       " 0.041294797766942865,\n",
       " 0.040984328808830454,\n",
       " 0.04066919155095482,\n",
       " 0.04034992190532088,\n",
       " 0.040027022660742144,\n",
       " 0.03970096554580688,\n",
       " 0.03937219313915187,\n",
       " 0.03904112064118332,\n",
       " 0.03870813751979027,\n",
       " 0.03837360904120885,\n",
       " 0.038037877695992,\n",
       " 0.03770126452898243,\n",
       " 0.03736407038126626,\n",
       " 0.037026577170004016,\n",
       " 0.03668904835075958,\n",
       " 0.036351731104323506]"
      ]
     },
     "execution_count": 14,
     "metadata": {},
     "output_type": "execute_result"
    }
   ],
   "source": [
    "wateq4f_values"
   ]
  },
  {
   "cell_type": "code",
   "execution_count": 11,
   "metadata": {
    "collapsed": false,
    "jupyter": {
     "outputs_hidden": false
    }
   },
   "outputs": [
    {
     "data": {
      "text/plain": [
       "Text(0.5, 0, 'NaCl, moles/(kg water)')"
      ]
     },
     "execution_count": 11,
     "metadata": {},
     "output_type": "execute_result"
    },
    {
     "data": {
      "image/png": "[encoded data removed]",
      "text/plain": [
       "<Figure size 432x288 with 1 Axes>"
      ]
     },
     "metadata": {
      "needs_background": "light"
     },
     "output_type": "display_data"
    }
   ],
   "source": [
    "# Plot\n",
    "plt.plot(nacl_conc, pitzer_values, 'k', nacl_conc, wateq4f_values,'k--')\n",
    "plt.axis([0, 6, 0, .06])\n",
    "plt.legend(('PITZER','WATEQ4F'), loc = (0.4, 0.4))\n",
    "plt.ylabel('Gypsum Solubility, moles/(kg water)')\n",
    "plt.xlabel('NaCl, moles/(kg water)')"
   ]
  },
  {
   "cell_type": "code",
   "execution_count": null,
   "metadata": {},
   "outputs": [],
   "source": []
  }
 ],
 "metadata": {
  "kernelspec": {
   "display_name": "Python 3",
   "language": "python",
   "name": "python3"
  },
  "language_info": {
   "codemirror_mode": {
    "name": "ipython",
    "version": 3
   },
   "file_extension": ".py",
   "mimetype": "text/x-python",
   "name": "python",
   "nbconvert_exporter": "python",
   "pygments_lexer": "ipython3",
   "version": "3.8.3"
  }
 },
 "nbformat": 4,
 "nbformat_minor": 4
}
